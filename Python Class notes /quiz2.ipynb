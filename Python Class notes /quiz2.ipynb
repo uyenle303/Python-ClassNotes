{
 "cells": [
  {
   "cell_type": "code",
   "execution_count": 3,
   "id": "ab3dbba9-9581-4a2a-b743-888a790f9b7d",
   "metadata": {},
   "outputs": [
    {
     "data": {
      "image/png": "[encoded data removed]",
      "text/plain": [
       "<Figure size 640x480 with 1 Axes>"
      ]
     },
     "metadata": {},
     "output_type": "display_data"
    }
   ],
   "source": [
    "#1\n",
    "import numpy as np \n",
    "import matplotlib.pyplot as plt \n",
    "\n",
    "x = np.arange(0,10,.01) \n",
    "y = x**2\n",
    "\n",
    "plt.plot(x,y); \n"
   ]
  },
  {
   "cell_type": "code",
   "execution_count": 5,
   "id": "b5c3bdc5-b915-483b-b1ee-ab8a5087f9d4",
   "metadata": {},
   "outputs": [],
   "source": [
    "b = np.array([[1, 2], [3, 4]])\n",
    "c= np.tile(b, 2)\n",
    "\n",
    "d = np.tile(b, (2, 1))\n"
   ]
  },
  {
   "cell_type": "code",
   "execution_count": 6,
   "id": "f051586f-6802-4791-b1c0-42b774fb17f4",
   "metadata": {},
   "outputs": [
    {
     "name": "stdout",
     "output_type": "stream",
     "text": [
      "[[1 2 1 2]\n",
      " [3 4 3 4]]\n"
     ]
    }
   ],
   "source": [
    "print(c)"
   ]
  },
  {
   "cell_type": "code",
   "execution_count": 7,
   "id": "dddae888-dacf-4610-9c3c-b6e9a335eb29",
   "metadata": {},
   "outputs": [
    {
     "name": "stdout",
     "output_type": "stream",
     "text": [
      "[[1 2]\n",
      " [3 4]\n",
      " [1 2]\n",
      " [3 4]]\n"
     ]
    }
   ],
   "source": [
    "print(d)"
   ]
  },
  {
   "cell_type": "code",
   "execution_count": 9,
   "id": "629a381a-5811-4330-aee0-d12062767282",
   "metadata": {},
   "outputs": [
    {
     "name": "stdout",
     "output_type": "stream",
     "text": [
      "[[4 3]\n",
      " [2 1]]\n"
     ]
    }
   ],
   "source": [
    "A = np.array([[4,3], [2,1]]) \n",
    "print(A)"
   ]
  },
  {
   "cell_type": "code",
   "execution_count": 47,
   "id": "f4b3e117-1c9b-4dd7-b924-291c96b1ed25",
   "metadata": {},
   "outputs": [
    {
     "name": "stdout",
     "output_type": "stream",
     "text": [
      "[[4 3 4 3 4 3]\n",
      " [2 1 2 1 2 1]\n",
      " [4 3 4 3 4 3]\n",
      " [2 1 2 1 2 1]]\n"
     ]
    }
   ],
   "source": [
    "A = np.array([[4,3], [2,1]]) \n",
    "\n",
    "B = np.tile(A,3)\n",
    "\n",
    "C = np.tile(B, (2, 1))\n",
    "print(C)"
   ]
  },
  {
   "cell_type": "code",
   "execution_count": 21,
   "id": "eea4ab44-c0b9-4adc-a303-79629a0d06fc",
   "metadata": {},
   "outputs": [
    {
     "name": "stdout",
     "output_type": "stream",
     "text": [
      "[[4 3 4 3 4 3]\n",
      " [2 1 2 1 2 1]\n",
      " [4 3 4 3 4 3]\n",
      " [2 1 2 1 2 1]]\n"
     ]
    }
   ],
   "source": [
    "C = np.tile(B, (2, 1))\n",
    "print(C)"
   ]
  },
  {
   "cell_type": "code",
   "execution_count": 22,
   "id": "c23e5064-f4b6-4588-a324-bd9fe97baabc",
   "metadata": {},
   "outputs": [
    {
     "name": "stdout",
     "output_type": "stream",
     "text": [
      "[[4 3 4 3 4 3]\n",
      " [2 1 2 1 2 1]\n",
      " [4 3 4 3 4 3]\n",
      " [2 1 2 1 2 1]]\n"
     ]
    }
   ],
   "source": [
    "#2\n",
    "A = np.array([[4,3], [2,1]]) \n",
    "B = np.tile(A,3)\n",
    "C = np.tile(B, (2, 1))\n",
    "print(C)"
   ]
  },
  {
   "cell_type": "code",
   "execution_count": 48,
   "id": "d415eaaf-b080-404f-afe9-7d2031d04e1e",
   "metadata": {},
   "outputs": [
    {
     "name": "stdout",
     "output_type": "stream",
     "text": [
      "[[1. 1. 1. 1. 1. 1. 1. 1. 1. 1. 1.]\n",
      " [1. 2. 2. 2. 2. 2. 2. 2. 2. 2. 1.]\n",
      " [1. 2. 3. 3. 3. 3. 3. 3. 3. 2. 1.]\n",
      " [1. 2. 3. 4. 4. 4. 4. 4. 3. 2. 1.]\n",
      " [1. 2. 3. 4. 5. 5. 5. 4. 3. 2. 1.]\n",
      " [1. 2. 3. 4. 5. 6. 5. 4. 3. 2. 1.]\n",
      " [1. 2. 3. 4. 5. 5. 5. 4. 3. 2. 1.]\n",
      " [1. 2. 3. 4. 4. 4. 4. 4. 3. 2. 1.]\n",
      " [1. 2. 3. 3. 3. 3. 3. 3. 3. 2. 1.]\n",
      " [1. 2. 2. 2. 2. 2. 2. 2. 2. 2. 1.]\n",
      " [1. 1. 1. 1. 1. 1. 1. 1. 1. 1. 1.]]\n"
     ]
    }
   ],
   "source": [
    "#3\n",
    "B = np.ones((11,11))\n",
    "\n",
    "B[1:-1, 1:-1] = 2\n",
    "B[2:-2, 2:-2] = 3\n",
    "B[3:-3, 3:-3] = 4\n",
    "B[4:-4 ,4:-4] = 5\n",
    "B[5:-5, 5:-5] = 6\n",
    "print(B)"
   ]
  },
  {
   "cell_type": "code",
   "execution_count": 42,
   "id": "a725a1be-d926-4e37-84de-579cc262d194",
   "metadata": {},
   "outputs": [
    {
     "name": "stdout",
     "output_type": "stream",
     "text": [
      "[[1. 1. 1. 1. 1. 1. 1. 1. 1. 1. 1.]\n",
      " [1. 2. 2. 2. 2. 2. 2. 2. 2. 2. 1.]\n",
      " [1. 2. 2. 2. 2. 2. 2. 2. 2. 2. 1.]\n",
      " [1. 2. 2. 2. 2. 2. 2. 2. 2. 2. 1.]\n",
      " [1. 2. 2. 2. 2. 2. 2. 2. 2. 2. 1.]\n",
      " [1. 2. 2. 2. 2. 2. 2. 2. 2. 2. 1.]\n",
      " [1. 2. 2. 2. 2. 2. 2. 2. 2. 2. 1.]\n",
      " [1. 2. 2. 2. 2. 2. 2. 2. 2. 2. 1.]\n",
      " [1. 2. 2. 2. 2. 2. 2. 2. 2. 2. 1.]\n",
      " [1. 2. 2. 2. 2. 2. 2. 2. 2. 2. 1.]\n",
      " [1. 1. 1. 1. 1. 1. 1. 1. 1. 1. 1.]]\n"
     ]
    }
   ],
   "source": []
  },
  {
   "cell_type": "code",
   "execution_count": null,
   "id": "08361c2d-7555-456d-902c-09d1c794c882",
   "metadata": {},
   "outputs": [],
   "source": []
  }
 ],
 "metadata": {
  "kernelspec": {
   "display_name": "Python 3 (ipykernel)",
   "language": "python",
   "name": "python3"
  },
  "language_info": {
   "codemirror_mode": {
    "name": "ipython",
    "version": 3
   },
   "file_extension": ".py",
   "mimetype": "text/x-python",
   "name": "python",
   "nbconvert_exporter": "python",
   "pygments_lexer": "ipython3",
   "version": "3.11.7"
  }
 },
 "nbformat": 4,
 "nbformat_minor": 5
}
