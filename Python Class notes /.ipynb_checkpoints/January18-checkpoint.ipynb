{
 "cells": [
  {
   "cell_type": "code",
   "execution_count": null,
   "id": "7472ed06",
   "metadata": {},
   "outputs": [],
   "source": [
    "print('Hello python')"
   ]
  },
  {
   "cell_type": "code",
   "execution_count": 2,
   "id": "f62dff9d",
   "metadata": {},
   "outputs": [],
   "source": [
    "message = \"Hello python\""
   ]
  },
  {
   "cell_type": "code",
   "execution_count": null,
   "id": "41e7ae81",
   "metadata": {},
   "outputs": [],
   "source": [
    "print(message)"
   ]
  },
  {
   "cell_type": "code",
   "execution_count": null,
   "id": "aa5f230a",
   "metadata": {},
   "outputs": [],
   "source": [
    "message"
   ]
  },
  {
   "cell_type": "code",
   "execution_count": null,
   "id": "76f44fe3",
   "metadata": {},
   "outputs": [],
   "source": [
    "type(message)"
   ]
  },
  {
   "cell_type": "code",
   "execution_count": null,
   "id": "ab2999fd",
   "metadata": {},
   "outputs": [],
   "source": [
    "mes1 = 'Hello'\n",
    "mes2 = 'python'\n",
    "\n",
    "New_mes = mes1 + ' ' + mes2\n",
    "print(New_mes)"
   ]
  },
  {
   "cell_type": "code",
   "execution_count": 10,
   "id": "f0936e8c",
   "metadata": {},
   "outputs": [],
   "source": [
    "# escape, R, Y on mac"
   ]
  },
  {
   "cell_type": "code",
   "execution_count": null,
   "id": "ee2e501d",
   "metadata": {},
   "outputs": [],
   "source": [
    "New_mes"
   ]
  },
  {
   "cell_type": "code",
   "execution_count": null,
   "id": "293faecb",
   "metadata": {},
   "outputs": [],
   "source": [
    "New_mes.upper()"
   ]
  },
  {
   "cell_type": "code",
   "execution_count": null,
   "id": "9ecca6a8",
   "metadata": {},
   "outputs": [],
   "source": [
    "New_mes.lower()"
   ]
  },
  {
   "cell_type": "code",
   "execution_count": null,
   "id": "6ba08216",
   "metadata": {},
   "outputs": [],
   "source": [
    "New_mes.title()"
   ]
  },
  {
   "cell_type": "code",
   "execution_count": null,
   "id": "c9aa5e64",
   "metadata": {},
   "outputs": [],
   "source": [
    "1 + 3"
   ]
  },
  {
   "cell_type": "code",
   "execution_count": null,
   "id": "dc9fca28",
   "metadata": {},
   "outputs": [],
   "source": [
    "2 * 3"
   ]
  },
  {
   "cell_type": "code",
   "execution_count": null,
   "id": "805f1f83",
   "metadata": {},
   "outputs": [],
   "source": [
    "2 ** 3, 2 ** 4"
   ]
  },
  {
   "cell_type": "code",
   "execution_count": null,
   "id": "04c97802",
   "metadata": {},
   "outputs": [],
   "source": [
    "type(2)"
   ]
  },
  {
   "cell_type": "code",
   "execution_count": null,
   "id": "6dbe924d",
   "metadata": {},
   "outputs": [],
   "source": [
    "type(2.3)"
   ]
  },
  {
   "cell_type": "code",
   "execution_count": null,
   "id": "b7963d72",
   "metadata": {},
   "outputs": [],
   "source": [
    "2/3"
   ]
  },
  {
   "cell_type": "code",
   "execution_count": null,
   "id": "d746a7b1",
   "metadata": {},
   "outputs": [],
   "source": [
    "int(2/3)"
   ]
  },
  {
   "cell_type": "code",
   "execution_count": null,
   "id": "fe224172",
   "metadata": {},
   "outputs": [],
   "source": [
    "int(2.7)"
   ]
  },
  {
   "cell_type": "code",
   "execution_count": null,
   "id": "f9eaaf99",
   "metadata": {},
   "outputs": [],
   "source": [
    "1 == 2"
   ]
  },
  {
   "cell_type": "code",
   "execution_count": null,
   "id": "0d1de450",
   "metadata": {},
   "outputs": [],
   "source": [
    "'1' == 1"
   ]
  },
  {
   "cell_type": "code",
   "execution_count": 32,
   "id": "14bdd6de",
   "metadata": {},
   "outputs": [],
   "source": [
    "mes2 = mes2 + '3'"
   ]
  },
  {
   "cell_type": "code",
   "execution_count": null,
   "id": "3cf86add",
   "metadata": {},
   "outputs": [],
   "source": [
    "mes2"
   ]
  },
  {
   "cell_type": "code",
   "execution_count": null,
   "id": "050702bd",
   "metadata": {},
   "outputs": [],
   "source": [
    "mes2"
   ]
  },
  {
   "cell_type": "code",
   "execution_count": 34,
   "id": "487f2eca",
   "metadata": {},
   "outputs": [],
   "source": [
    "mes2 = 'python'"
   ]
  },
  {
   "cell_type": "code",
   "execution_count": null,
   "id": "803d56e7",
   "metadata": {},
   "outputs": [],
   "source": [
    "mes2 = mes2 + '3'\n",
    "print(mes2.title())"
   ]
  },
  {
   "cell_type": "code",
   "execution_count": null,
   "id": "dd3ac282",
   "metadata": {},
   "outputs": [],
   "source": [
    "# Lists\n",
    "subjects = ['math', 'physics', 'music', 'finance', 'econ']\n",
    "print(subjects)"
   ]
  },
  {
   "cell_type": "code",
   "execution_count": null,
   "id": "68c8b937",
   "metadata": {},
   "outputs": [],
   "source": [
    "type(subjects)"
   ]
  },
  {
   "cell_type": "code",
   "execution_count": 39,
   "id": "6a3faf89",
   "metadata": {},
   "outputs": [],
   "source": [
    "l1 = [1, 2, 3, 4]"
   ]
  },
  {
   "cell_type": "code",
   "execution_count": null,
   "id": "5c54d1e0",
   "metadata": {},
   "outputs": [],
   "source": [
    "print(l1)"
   ]
  },
  {
   "cell_type": "code",
   "execution_count": null,
   "id": "b16f908a",
   "metadata": {},
   "outputs": [],
   "source": [
    "l1"
   ]
  },
  {
   "cell_type": "code",
   "execution_count": null,
   "id": "40a06185",
   "metadata": {},
   "outputs": [],
   "source": [
    "l2 = [5, 6]\n",
    "l1 + l2"
   ]
  },
  {
   "cell_type": "code",
   "execution_count": null,
   "id": "4663816b",
   "metadata": {},
   "outputs": [],
   "source": [
    "l2 + l1"
   ]
  },
  {
   "cell_type": "code",
   "execution_count": null,
   "id": "4843588e",
   "metadata": {},
   "outputs": [],
   "source": [
    "l1"
   ]
  },
  {
   "cell_type": "code",
   "execution_count": null,
   "id": "c2047efa",
   "metadata": {},
   "outputs": [],
   "source": [
    "l2"
   ]
  },
  {
   "cell_type": "code",
   "execution_count": null,
   "id": "cb6ede76",
   "metadata": {},
   "outputs": [],
   "source": [
    "l3 = l1 + l2\n",
    "l3"
   ]
  },
  {
   "cell_type": "code",
   "execution_count": null,
   "id": "610a6534",
   "metadata": {},
   "outputs": [],
   "source": [
    "subjects"
   ]
  },
  {
   "cell_type": "code",
   "execution_count": null,
   "id": "1f2d06b8",
   "metadata": {},
   "outputs": [],
   "source": [
    "subjects[0], subjects[1]"
   ]
  },
  {
   "cell_type": "code",
   "execution_count": null,
   "id": "929849f3",
   "metadata": {},
   "outputs": [],
   "source": [
    "subjects[0:4]"
   ]
  },
  {
   "cell_type": "code",
   "execution_count": null,
   "id": "eb8fb46b",
   "metadata": {},
   "outputs": [],
   "source": [
    "subjects.append('thermo')"
   ]
  },
  {
   "cell_type": "code",
   "execution_count": null,
   "id": "4ad7dfd1",
   "metadata": {},
   "outputs": [],
   "source": [
    "subjects"
   ]
  },
  {
   "cell_type": "code",
   "execution_count": null,
   "id": "ebb77667",
   "metadata": {},
   "outputs": [],
   "source": [
    "subjects.remove('econ')\n",
    "subjects"
   ]
  },
  {
   "cell_type": "code",
   "execution_count": null,
   "id": "4596a6d3",
   "metadata": {},
   "outputs": [],
   "source": [
    "len(subjects)"
   ]
  },
  {
   "cell_type": "code",
   "execution_count": null,
   "id": "312d2744",
   "metadata": {},
   "outputs": [],
   "source": [
    "len('Python')"
   ]
  },
  {
   "cell_type": "code",
   "execution_count": null,
   "id": "978b8ec0",
   "metadata": {},
   "outputs": [],
   "source": [
    "subjects.sort()\n",
    "subjects"
   ]
  },
  {
   "cell_type": "code",
   "execution_count": null,
   "id": "edff074a",
   "metadata": {},
   "outputs": [],
   "source": [
    "for a in subjects:\n",
    "    print('I really like ' + a)"
   ]
  },
  {
   "cell_type": "code",
   "execution_count": null,
   "id": "386f5171",
   "metadata": {},
   "outputs": [],
   "source": [
    "for i in range(5):\n",
    "    print(subjects[i])"
   ]
  },
  {
   "cell_type": "code",
   "execution_count": null,
   "id": "488e2753",
   "metadata": {},
   "outputs": [],
   "source": [
    "[subjects[i] for i in range(5)]"
   ]
  },
  {
   "cell_type": "code",
   "execution_count": null,
   "id": "8c718bb9",
   "metadata": {},
   "outputs": [],
   "source": [
    "'math' in subjects"
   ]
  },
  {
   "cell_type": "code",
   "execution_count": null,
   "id": "621ec279",
   "metadata": {},
   "outputs": [],
   "source": [
    "'geography' in subjects"
   ]
  },
  {
   "cell_type": "markdown",
   "id": "70fdab26",
   "metadata": {},
   "source": [
    "## Python exercises\n",
    "First, learn more python at https://docs.python.org/3.8/tutorial/introduction.html#lists\n",
    "\n",
    "1. Take two vectors, expressed as 2 lists with the same length, and calculate the sum of these two vectors, i.e. a new list obtained by adding the two vectors ccordinate-wise.\n",
    "2. Take two vectors, expressed as 2 lists with the same size, and calculate the dot product of these two vectors. See about the dot definition of the dot product at https://en.wikipedia.org/wiki/Dot_product\n"
   ]
  }
 ],
 "metadata": {
  "kernelspec": {
   "display_name": "Python 3 (ipykernel)",
   "language": "python",
   "name": "python3"
  },
  "language_info": {
   "codemirror_mode": {
    "name": "ipython",
    "version": 3
   },
   "file_extension": ".py",
   "mimetype": "text/x-python",
   "name": "python",
   "nbconvert_exporter": "python",
   "pygments_lexer": "ipython3",
   "version": "3.11.5"
  }
 },
 "nbformat": 4,
 "nbformat_minor": 5
}
