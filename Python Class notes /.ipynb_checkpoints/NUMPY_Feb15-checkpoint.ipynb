{
 "cells": [
  {
   "cell_type": "markdown",
   "id": "1246efb2-6d0d-4d5c-97a7-b1831fd4426f",
   "metadata": {},
   "source": [
    "# The Numpy library"
   ]
  },
  {
   "cell_type": "code",
   "execution_count": 1,
   "id": "26b80e60-55e9-493c-bd9d-40292d629afb",
   "metadata": {},
   "outputs": [],
   "source": [
    "import numpy as np\n",
    "import matplotlib.pyplot as plt"
   ]
  },
  {
   "cell_type": "code",
   "execution_count": null,
   "id": "3d35d89d-0366-4c36-b13d-bd24301e0bad",
   "metadata": {},
   "outputs": [],
   "source": [
    "A = [i for i in range(10)]\n",
    "print(A)"
   ]
  },
  {
   "cell_type": "code",
   "execution_count": null,
   "id": "5c4508df-e69e-4af2-8991-9847298f0f09",
   "metadata": {},
   "outputs": [],
   "source": [
    "A[-2:]"
   ]
  },
  {
   "cell_type": "code",
   "execution_count": null,
   "id": "e68d6577-8efd-4d22-8e73-60a25a87cf62",
   "metadata": {
    "scrolled": true
   },
   "outputs": [],
   "source": [
    "B = np.arange(1,10)\n",
    "C = np.arange(11,20)\n",
    "print(B)\n",
    "print(C)"
   ]
  },
  {
   "cell_type": "code",
   "execution_count": null,
   "id": "c779e3cc-096a-48ed-8fce-5ea319b7eb36",
   "metadata": {
    "scrolled": true
   },
   "outputs": [],
   "source": [
    "print(B**2)"
   ]
  },
  {
   "cell_type": "code",
   "execution_count": null,
   "id": "a67aa607-6e65-4be3-9a08-e8fd1f09bb83",
   "metadata": {
    "scrolled": true
   },
   "outputs": [],
   "source": [
    "x = np.arange(-.1,.1,.0001)\n",
    "y = x*np.sin(1/x)\n",
    "plt.plot(x,y);"
   ]
  },
  {
   "cell_type": "code",
   "execution_count": null,
   "id": "48ee48cf-ffa4-408f-851d-c28c76739d70",
   "metadata": {
    "scrolled": true
   },
   "outputs": [],
   "source": [
    "A = np.full((5,2), 0)\n",
    "print(A)"
   ]
  },
  {
   "cell_type": "code",
   "execution_count": null,
   "id": "cd8d48aa-06b5-4dd8-b37a-f18b0e3ad582",
   "metadata": {},
   "outputs": [],
   "source": [
    "AA = np.ones((5,2))\n",
    "print(AA)"
   ]
  },
  {
   "cell_type": "code",
   "execution_count": null,
   "id": "5015453a-8a01-437a-9615-17972909d2d2",
   "metadata": {},
   "outputs": [],
   "source": [
    "C = np.eye(3)\n",
    "print(C)"
   ]
  },
  {
   "cell_type": "code",
   "execution_count": null,
   "id": "2a655ae8-bcff-43b3-b176-14743b9cbd71",
   "metadata": {},
   "outputs": [],
   "source": [
    "CC = 2*np.random.rand(3,3) - np.full((3,3), 1)\n",
    "print(CC)"
   ]
  },
  {
   "cell_type": "code",
   "execution_count": null,
   "id": "21688579-2b3e-4827-b248-becb2893dea0",
   "metadata": {},
   "outputs": [],
   "source": [
    "CC_new = CC.reshape(9,1)\n",
    "print(CC_new)"
   ]
  },
  {
   "cell_type": "code",
   "execution_count": null,
   "id": "1094a184-44b0-4e84-ad6c-e86537254f44",
   "metadata": {},
   "outputs": [],
   "source": [
    "print(CC.flatten())"
   ]
  },
  {
   "cell_type": "code",
   "execution_count": null,
   "id": "ee65789a-8ad4-48ee-b602-96a7aa7a183e",
   "metadata": {},
   "outputs": [],
   "source": [
    "A = np.random.rand(4,4)\n",
    "B = np.full((4,4), 1)\n",
    "print(A)\n",
    "print(B)"
   ]
  },
  {
   "cell_type": "code",
   "execution_count": null,
   "id": "6fadfa1f-f43d-4cab-bb2c-749e1bf2e7ad",
   "metadata": {
    "scrolled": true
   },
   "outputs": [],
   "source": [
    "# Dot product is not commutative\n",
    "print(np.dot(A,B))\n",
    "print(np.dot(B,A))"
   ]
  },
  {
   "cell_type": "code",
   "execution_count": null,
   "id": "34a43834-1fdc-404b-9522-88415f1b7adb",
   "metadata": {
    "scrolled": true
   },
   "outputs": [],
   "source": [
    "A.min()"
   ]
  },
  {
   "cell_type": "code",
   "execution_count": null,
   "id": "71e75ebf-1c7d-42dd-9632-f42a5b73c0c7",
   "metadata": {},
   "outputs": [],
   "source": [
    "A[1:3,1:3]"
   ]
  },
  {
   "cell_type": "markdown",
   "id": "b545f0d6-084e-4573-9783-b6383d57013c",
   "metadata": {},
   "source": [
    "## EXERCISES"
   ]
  },
  {
   "cell_type": "markdown",
   "id": "482386fa-ab02-4212-ad2c-7442ef2b221f",
   "metadata": {
    "jp-MarkdownHeadingCollapsed": true
   },
   "source": [
    "1. Make a (10, 10) array with 1 on all its four borders and 0's inside\n",
    "Like this (4,4) array:  \n",
    "[[1,1,1,1]  \n",
    " [1,0,0,1]  \n",
    " [1,0,0,1]  \n",
    " [1,1,1,1]]"
   ]
  },
  {
   "cell_type": "code",
   "execution_count": 5,
   "id": "c066ec0a-ee9e-4999-8087-88ad623829e5",
   "metadata": {},
   "outputs": [
    {
     "name": "stdout",
     "output_type": "stream",
     "text": [
      "[[1. 1. 1. 1. 1. 1. 1. 1. 1. 1.]\n",
      " [1. 0. 0. 0. 0. 0. 0. 0. 0. 1.]\n",
      " [1. 0. 0. 0. 0. 0. 0. 0. 0. 1.]\n",
      " [1. 0. 0. 0. 0. 0. 0. 0. 0. 1.]\n",
      " [1. 0. 0. 0. 0. 0. 0. 0. 0. 1.]\n",
      " [1. 0. 0. 0. 0. 0. 0. 0. 0. 1.]\n",
      " [1. 0. 0. 0. 0. 0. 0. 0. 0. 1.]\n",
      " [1. 0. 0. 0. 0. 0. 0. 0. 0. 1.]\n",
      " [1. 0. 0. 0. 0. 0. 0. 0. 0. 1.]\n",
      " [1. 1. 1. 1. 1. 1. 1. 1. 1. 1.]]\n"
     ]
    }
   ],
   "source": [
    "A = np.zeros((10,10))\n",
    "A[0, :] = 1  # first row\n",
    "A[-1, :] = 1  # last row\n",
    "A[:, 0] = 1  # first column\n",
    "A[:, -1] = 1  # last column\n",
    "print(A)"
   ]
  },
  {
   "cell_type": "markdown",
   "id": "5efea6f7-6c30-42f9-a11d-12e03bc9e2db",
   "metadata": {},
   "source": [
    "2. Substract the mean of each row of a 2D array.\n",
    "Check the numpy doc https://numpy.org/doc/stable/index.html  \n",
    "in particular the function np.sum()"
   ]
  },
  {
   "cell_type": "code",
   "execution_count": 12,
   "id": "27b1aa41-5a70-4751-96dd-4ea40159607c",
   "metadata": {},
   "outputs": [
    {
     "name": "stdout",
     "output_type": "stream",
     "text": [
      "[[0.79944337 0.36119596 0.63531332 0.18664146]\n",
      " [0.81948198 0.39824793 0.82960994 0.91667427]\n",
      " [0.38339185 0.35616812 0.14995207 0.24373905]\n",
      " [0.10293893 0.60942428 0.4628129  0.24823469]]\n"
     ]
    }
   ],
   "source": [
    "B = np.random.rand(4,4)\n",
    "print(B)"
   ]
  },
  {
   "cell_type": "code",
   "execution_count": 28,
   "id": "4f055c0c-ac6a-4676-a101-51617eb95e35",
   "metadata": {},
   "outputs": [],
   "source": [
    "A1=np.mean(B[0, :])\n"
   ]
  },
  {
   "cell_type": "code",
   "execution_count": 29,
   "id": "cb1341c1-8537-483f-a1c1-6bb39c13c707",
   "metadata": {},
   "outputs": [],
   "source": [
    "A2=np.mean(B[1, :])"
   ]
  },
  {
   "cell_type": "code",
   "execution_count": 30,
   "id": "a3f8f451-ecd7-4df8-98aa-a17251c3d8ae",
   "metadata": {},
   "outputs": [],
   "source": [
    "A3=np.mean(B[2, ])"
   ]
  },
  {
   "cell_type": "code",
   "execution_count": 31,
   "id": "918fe169-2616-402e-97ca-24c138b95905",
   "metadata": {},
   "outputs": [],
   "source": [
    "A4=np.mean(B[3, ])"
   ]
  },
  {
   "cell_type": "code",
   "execution_count": 33,
   "id": "cb3e207f-1b15-4242-9038-187c85e232b6",
   "metadata": {},
   "outputs": [
    {
     "name": "stdout",
     "output_type": "stream",
     "text": [
      "[[ 0.30379484 -0.37980757  0.35200055 -0.16921124]\n",
      " [ 0.32383345 -0.3427556   0.54629717  0.56082157]\n",
      " [-0.11225668 -0.38483541 -0.1333607  -0.11211365]\n",
      " [-0.3927096  -0.13157925  0.17950013 -0.10761801]]\n"
     ]
    }
   ],
   "source": [
    "SubB = B - np.array([A1, A2, A3, A4])\n",
    "print(SubB)"
   ]
  },
  {
   "cell_type": "markdown",
   "id": "7a76a517-042b-45a9-9f16-c9da88f6a544",
   "metadata": {},
   "source": [
    "3. Find the nearest value from a value in an array\n",
    "Check the numpy doc for the functions np.abs() and np.min() "
   ]
  },
  {
   "cell_type": "code",
   "execution_count": 47,
   "id": "afbecfb5-2df0-4b4a-a834-04edbb859503",
   "metadata": {},
   "outputs": [
    {
     "name": "stdout",
     "output_type": "stream",
     "text": [
      "[0.61394421 0.61615544 0.25432495 0.88830476 0.44043868 0.26306677\n",
      " 0.93646418 0.99485013 0.72330082 0.87493898]\n",
      "0.44043868405783904\n"
     ]
    }
   ],
   "source": [
    "def find_nearest(C, val): \n",
    "    idx = (np.abs(C - val)).argmin()\n",
    "    return C[idx]\n",
    "\n",
    "C = np.random.random(10)\n",
    "print(C)\n",
    "val = 0.5 \n",
    "print(find_nearest(C, val))"
   ]
  },
  {
   "cell_type": "markdown",
   "id": "bb2cd351-52ed-4ae4-b031-de1676766355",
   "metadata": {},
   "source": [
    "4. Given two (5,5) numpy arrays A and B find the sum of diagonal elements of\n",
    "the (5,5) numpy array np.dot(A,B) and the sum of the diagonal elements of\n",
    "the (5,5) numpy array np.dot(B,A). (Hint check np.diag()) Try this for a few arrays A and B\n",
    "possibly by definition a function."
   ]
  },
  {
   "cell_type": "code",
   "execution_count": 61,
   "id": "d13e1522-171e-4a53-8961-a88881781f41",
   "metadata": {},
   "outputs": [],
   "source": [
    "A = np.random.rand(5,5)\n",
    "\n",
    "\n",
    "B = np.random.rand(5,5) \n"
   ]
  },
  {
   "cell_type": "code",
   "execution_count": 73,
   "id": "d5f9ec57-68b6-407a-ab04-5d233b6cf185",
   "metadata": {},
   "outputs": [
    {
     "name": "stdout",
     "output_type": "stream",
     "text": [
      "[[1.42223972 1.22993002 1.38848946 1.80186751 1.49390014]\n",
      " [1.66870134 1.37588728 1.76031207 1.81490458 1.22235019]\n",
      " [1.77175161 1.68237266 1.45499794 1.90105168 1.48496329]\n",
      " [1.81557523 1.77280828 1.09908949 1.56995594 1.34447187]\n",
      " [1.80140807 1.47360021 1.47242261 1.39839013 0.92759909]]\n",
      "[[2.07753829 1.46417242 2.2727393  2.56178931 2.27687428]\n",
      " [1.24902484 0.88919924 1.42825768 1.44695237 1.56517533]\n",
      " [1.55616206 1.01869131 0.54430593 1.48349919 0.95291625]\n",
      " [1.41567039 0.90261933 1.26605867 1.53129774 1.63864101]\n",
      " [1.50315431 1.08154831 1.96715385 2.035738   1.70833878]]\n"
     ]
    }
   ],
   "source": [
    "C = (np.dot(A,B)) \n",
    "\n",
    "D = (np.dot(B,A))\n",
    "\n",
    "print(C)\n",
    "print(D)"
   ]
  },
  {
   "cell_type": "code",
   "execution_count": 72,
   "id": "0cf90c76-aa12-4ebe-a03f-4b1ea5c506cb",
   "metadata": {},
   "outputs": [
    {
     "name": "stdout",
     "output_type": "stream",
     "text": [
      "[1.42223972 1.37588728 1.45499794 1.56995594 0.92759909]\n",
      "[2.07753829 0.88919924 0.54430593 1.53129774 1.70833878]\n"
     ]
    }
   ],
   "source": [
    "Diag_C = np.diagonal(C) \n",
    "Diag_D = np.diagonal(D)\n",
    "\n",
    "print(Diag_C)\n",
    "print(Diag_D)\n"
   ]
  },
  {
   "cell_type": "code",
   "execution_count": 75,
   "id": "9bca10e3-9faa-4d35-a08e-a5b4e85114f8",
   "metadata": {},
   "outputs": [
    {
     "data": {
      "text/plain": [
       "6.750679974132113"
      ]
     },
     "execution_count": 75,
     "metadata": {},
     "output_type": "execute_result"
    }
   ],
   "source": [
    "np.sum(Diag_C)\n"
   ]
  },
  {
   "cell_type": "code",
   "execution_count": 76,
   "id": "f8eb8369-631e-4b9f-baeb-b31d19ca85d6",
   "metadata": {},
   "outputs": [
    {
     "data": {
      "text/plain": [
       "6.750679974132113"
      ]
     },
     "execution_count": 76,
     "metadata": {},
     "output_type": "execute_result"
    }
   ],
   "source": [
    "np.sum(Diag_D)"
   ]
  },
  {
   "cell_type": "code",
   "execution_count": 80,
   "id": "8720b7d0-c29a-4128-9742-25012a01ed31",
   "metadata": {},
   "outputs": [],
   "source": [
    "# function of diagonal element sum \n",
    "def sum_d(A, B):\n",
    "    # Compute the dot product of A and B\n",
    "    C = np.dot(A, B)\n",
    "    # Extract diagonal elements\n",
    "    diagonal_elements = np.diagonal(C)\n",
    "    # Compute the sum of diagonal elements\n",
    "    diagonal_sum = np.sum(diagonal_elements)\n",
    "    return diagonal_sum"
   ]
  },
  {
   "cell_type": "code",
   "execution_count": 81,
   "id": "f65a195a-ce35-48d3-b28b-509733d47c4a",
   "metadata": {},
   "outputs": [
    {
     "name": "stdout",
     "output_type": "stream",
     "text": [
      "8.41820960837866\n"
     ]
    }
   ],
   "source": [
    "A = np.random.rand(6,6)\n",
    "B = np.random.rand(6,6)\n",
    "\n",
    "sumD = sum_d(A,B)\n",
    "print(sumD)"
   ]
  },
  {
   "cell_type": "code",
   "execution_count": null,
   "id": "97a6c367-7939-47be-84b3-104b9f345a9f",
   "metadata": {},
   "outputs": [],
   "source": []
  }
 ],
 "metadata": {
  "kernelspec": {
   "display_name": "Python 3 (ipykernel)",
   "language": "python",
   "name": "python3"
  },
  "language_info": {
   "codemirror_mode": {
    "name": "ipython",
    "version": 3
   },
   "file_extension": ".py",
   "mimetype": "text/x-python",
   "name": "python",
   "nbconvert_exporter": "python",
   "pygments_lexer": "ipython3",
   "version": "3.11.7"
  }
 },
 "nbformat": 4,
 "nbformat_minor": 5
}
