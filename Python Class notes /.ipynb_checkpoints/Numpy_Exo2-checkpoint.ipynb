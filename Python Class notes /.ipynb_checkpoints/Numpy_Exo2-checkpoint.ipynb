{
 "cells": [
  {
   "cell_type": "code",
   "execution_count": 3,
   "id": "06e4648f-d284-42ba-a430-d7d7523ff4a9",
   "metadata": {},
   "outputs": [
    {
     "name": "stdout",
     "output_type": "stream",
     "text": [
      "[[ 92 174 152 125 162 198 102  54  82  14 150 183]\n",
      " [193   3  16 110 197  25 137 135  52  81  46  45]\n",
      " [ 56  30 187  28 176 130  89 158  19  27 127  58]\n",
      " [ 74 126  74  54  45 112  78 153 159  56  17  13]\n",
      " [ 58 159  67  93 107  18 110 145  26  12 164 191]\n",
      " [ 91 109 139  26  62  73   3  60  51 177  40  73]\n",
      " [105 161 133 165 120  64 126  56  12  61  32   7]\n",
      " [ 76 187   7  30 141  77  60 147  69 151  21  96]\n",
      " [112 162 198  90 181  13 129 151  20 182  26   8]\n",
      " [174 111  98  33 137  13  93 109 142  46  33  69]\n",
      " [169 188  48  77 137  31  58  14  20 142 104 143]\n",
      " [  6   3 133 177  53  92 173   1 102 184 124  34]]\n"
     ]
    }
   ],
   "source": [
    "import numpy as np\n",
    "A = np.random.randint(low = 1, high = 200, size = (12,12))\n",
    "print(A)"
   ]
  },
  {
   "cell_type": "code",
   "execution_count": 8,
   "id": "2da12624-c92d-462a-99bb-62e7847e51f1",
   "metadata": {},
   "outputs": [
    {
     "name": "stdout",
     "output_type": "stream",
     "text": [
      "[[169  16  73  23  44  76 105   8 163 178  96  76]\n",
      " [ 48  64  32 149 125 117  38 168 196 103   5 171]\n",
      " [108  52 104  39  34  59 125  68  70  89 197  47]\n",
      " [199  96 122  32 195  81  53  51 133  64  50  40]\n",
      " [175 137 179  16 137 146 151 118  74 186 106 111]\n",
      " [191  84  97  44  33  27 137  77 139  41  35  61]\n",
      " [138  71  87 199  20  57 130  69 169  82  62 199]\n",
      " [126  98 147  88 151  44  53  17  56 124 150  44]\n",
      " [169  71 166  60  18 144 159  27  40  64 149 151]\n",
      " [188 178 101  28   1  63 169 187  93  37  64  76]\n",
      " [111  51 136 178  83 130  50  41 109  47 188  74]\n",
      " [ 79 111  96  33 120  17 150 172  59  22 178 192]]\n"
     ]
    }
   ],
   "source": [
    "import numpy as np\n",
    "np.random.seed(2) # seeds keeps the same random numbers\n",
    "A = np.random.randint(low = 1, high = 200, size = (12,12))\n",
    "print(A)"
   ]
  },
  {
   "cell_type": "code",
   "execution_count": 14,
   "id": "90911672-d943-414b-ace6-7adfa7771aa8",
   "metadata": {},
   "outputs": [
    {
     "name": "stdout",
     "output_type": "stream",
     "text": [
      "111.66666666666667\n"
     ]
    }
   ],
   "source": [
    "# What is the average of the third column?\n",
    "A[:,2]\n",
    "avg = np.mean(A[:,2])\n",
    "print(avg)\n",
    "# Whats is the average of the first3 rows of the last two columns?"
   ]
  },
  {
   "cell_type": "code",
   "execution_count": 16,
   "id": "e9173901-d02d-4de6-a5ef-4d7b5d416ed5",
   "metadata": {},
   "outputs": [
    {
     "name": "stdout",
     "output_type": "stream",
     "text": [
      "[[0 1]\n",
      " [0 1]]\n"
     ]
    }
   ],
   "source": [
    "\n",
    "B = np.array([[0,1], [0,1]])\n",
    "print(B)\n"
   ]
  },
  {
   "cell_type": "code",
   "execution_count": 18,
   "id": "90e30ce8-d17f-4b55-910d-a2782b47a28b",
   "metadata": {},
   "outputs": [
    {
     "data": {
      "text/plain": [
       "0.0"
      ]
     },
     "execution_count": 18,
     "metadata": {},
     "output_type": "execute_result"
    }
   ],
   "source": [
    "B.mean(axis=0)  # mean of all columns "
   ]
  },
  {
   "cell_type": "code",
   "execution_count": 19,
   "id": "6fc285ab-1903-4a32-bda7-b2251326fd53",
   "metadata": {},
   "outputs": [
    {
     "data": {
      "text/plain": [
       "0.0"
      ]
     },
     "execution_count": 19,
     "metadata": {},
     "output_type": "execute_result"
    }
   ],
   "source": [
    "B.mean(axis=0) [0] # mean of first column "
   ]
  },
  {
   "cell_type": "code",
   "execution_count": 21,
   "id": "330791c4-6524-4516-b55a-e9f606695dfb",
   "metadata": {},
   "outputs": [
    {
     "data": {
      "text/plain": [
       "111.66666666666667"
      ]
     },
     "execution_count": 21,
     "metadata": {},
     "output_type": "execute_result"
    }
   ],
   "source": [
    "A.mean(axis=0)[2]  # mean of column 3 "
   ]
  },
  {
   "cell_type": "code",
   "execution_count": 22,
   "id": "1df755e3-4d3e-4c01-8d0f-62af7986e0d8",
   "metadata": {},
   "outputs": [
    {
     "data": {
      "text/plain": [
       "(111.66666666666667, 111.66666666666667)"
      ]
     },
     "execution_count": 22,
     "metadata": {},
     "output_type": "execute_result"
    }
   ],
   "source": [
    "A.mean(axis=0)[2], A[:,2].mean()  # mean of column 3 "
   ]
  },
  {
   "cell_type": "code",
   "execution_count": 26,
   "id": "57edcd8f-af37-4c65-bf59-8c2a098fa4d6",
   "metadata": {},
   "outputs": [
    {
     "data": {
      "text/plain": [
       "(98.66666666666667, 98.66666666666667)"
      ]
     },
     "execution_count": 26,
     "metadata": {},
     "output_type": "execute_result"
    }
   ],
   "source": [
    "A[0:3,10:12].mean(), A[:3, -2:].mean() # both ways to do it "
   ]
  },
  {
   "cell_type": "code",
   "execution_count": null,
   "id": "5d270b81-3f43-4b34-8c86-1447326c38b2",
   "metadata": {},
   "outputs": [],
   "source": []
  },
  {
   "cell_type": "code",
   "execution_count": null,
   "id": "b0c4d97f-1c16-4ae0-9afe-c8c9c235fbb5",
   "metadata": {},
   "outputs": [],
   "source": []
  },
  {
   "cell_type": "code",
   "execution_count": null,
   "id": "c923463f-c9cd-42a5-a873-7cc62426547e",
   "metadata": {},
   "outputs": [],
   "source": []
  },
  {
   "cell_type": "code",
   "execution_count": 33,
   "id": "a1e77eaa-21da-4cd3-a422-715044a055cc",
   "metadata": {},
   "outputs": [
    {
     "name": "stdout",
     "output_type": "stream",
     "text": [
      "[[0 0]\n",
      " [0 0]\n",
      " [0 0]]\n"
     ]
    },
    {
     "data": {
      "text/plain": [
       "array([[0., 0.],\n",
       "       [0., 0.],\n",
       "       [0., 0.],\n",
       "       [0., 0.],\n",
       "       [0., 0.]])"
      ]
     },
     "execution_count": 33,
     "metadata": {},
     "output_type": "execute_result"
    }
   ],
   "source": [
    "# Dot Multiply a (5,3) array by a (3,2) array and verify the result is a (5,2) array\n",
    "A = np.random.rand(5,3)\n",
    "B = np.full((3,2), 0)\n",
    "print(B)\n",
    "A.shape, B.shape, np.dot(A,B).shape\n",
    "np.dot(A,B)"
   ]
  },
  {
   "cell_type": "code",
   "execution_count": 35,
   "id": "17f00306-fd54-4169-af24-beebf573500b",
   "metadata": {},
   "outputs": [
    {
     "data": {
      "text/plain": [
       "array([[2, 3, 1, 3, 2],\n",
       "       [4, 3, 2, 4, 4],\n",
       "       [2, 3, 2, 4, 2],\n",
       "       [2, 3, 2, 3, 3],\n",
       "       [2, 3, 0, 4, 2]])"
      ]
     },
     "execution_count": 35,
     "metadata": {},
     "output_type": "execute_result"
    }
   ],
   "source": [
    "# Create (5,5) array with integer row values ranging from 0 to 4\n",
    "np.array([np.random.randint(0,5,5) for i in range(5)]) "
   ]
  },
  {
   "cell_type": "code",
   "execution_count": 37,
   "id": "aa6d85b0-2e86-4f7d-b7d2-c66f5fec1756",
   "metadata": {},
   "outputs": [
    {
     "data": {
      "text/plain": [
       "array([[2, 1, 4, 3, 3],\n",
       "       [1, 0, 4, 2, 3],\n",
       "       [3, 4, 3, 1, 1],\n",
       "       [0, 2, 1, 4, 2],\n",
       "       [2, 0, 1, 1, 0]])"
      ]
     },
     "execution_count": 37,
     "metadata": {},
     "output_type": "execute_result"
    }
   ],
   "source": [
    "# or \n",
    "np.random.randint(0,5,(5,5))"
   ]
  },
  {
   "cell_type": "code",
   "execution_count": 41,
   "id": "1df6f665-e6ae-4945-8841-c3be17c9b336",
   "metadata": {},
   "outputs": [
    {
     "name": "stdout",
     "output_type": "stream",
     "text": [
      "[[4 1 4 4 5 1]\n",
      " [5 4 5 1 2 2]\n",
      " [2 1 4 0 1 0]\n",
      " [2 1 2 1 1 3]\n",
      " [1 2 2 2 0 2]\n",
      " [5 2 2 1 5 0]]\n"
     ]
    }
   ],
   "source": [
    "# Substract the mean of each row of a (6,6) array\n",
    "np.random.randint(0,6,(6,6))\n",
    "A = np.random.randint(0,6,(6,6))\n",
    "print(A)"
   ]
  },
  {
   "cell_type": "code",
   "execution_count": 42,
   "id": "601e4cca-2329-4177-a4b1-6922757056d4",
   "metadata": {},
   "outputs": [
    {
     "data": {
      "text/plain": [
       "array([3.16666667, 1.83333333, 3.16666667, 1.5       , 2.33333333,\n",
       "       1.33333333])"
      ]
     },
     "execution_count": 42,
     "metadata": {},
     "output_type": "execute_result"
    }
   ],
   "source": [
    "A.mean(axis = 0) "
   ]
  },
  {
   "cell_type": "code",
   "execution_count": 43,
   "id": "24c7ac21-df79-4cab-a6d4-4699dab08267",
   "metadata": {},
   "outputs": [
    {
     "data": {
      "text/plain": [
       "array([[ 0.83333333, -0.83333333,  0.83333333,  2.5       ,  2.66666667,\n",
       "        -0.33333333],\n",
       "       [ 1.83333333,  2.16666667,  1.83333333, -0.5       , -0.33333333,\n",
       "         0.66666667],\n",
       "       [-1.16666667, -0.83333333,  0.83333333, -1.5       , -1.33333333,\n",
       "        -1.33333333],\n",
       "       [-1.16666667, -0.83333333, -1.16666667, -0.5       , -1.33333333,\n",
       "         1.66666667],\n",
       "       [-2.16666667,  0.16666667, -1.16666667,  0.5       , -2.33333333,\n",
       "         0.66666667],\n",
       "       [ 1.83333333,  0.16666667, -1.16666667, -0.5       ,  2.66666667,\n",
       "        -1.33333333]])"
      ]
     },
     "execution_count": 43,
     "metadata": {},
     "output_type": "execute_result"
    }
   ],
   "source": [
    "A - A.mean(axis = 0)"
   ]
  },
  {
   "cell_type": "code",
   "execution_count": 50,
   "id": "2de41138-182b-41ad-a39e-b9e69fd2fa57",
   "metadata": {},
   "outputs": [
    {
     "data": {
      "text/plain": [
       "(6, 1)"
      ]
     },
     "execution_count": 50,
     "metadata": {},
     "output_type": "execute_result"
    }
   ],
   "source": [
    "A.mean(axis = 1, keepdims= True).shape"
   ]
  },
  {
   "cell_type": "code",
   "execution_count": 48,
   "id": "4e4fb41e-d05b-47f0-b8bd-64488226f865",
   "metadata": {},
   "outputs": [
    {
     "data": {
      "text/plain": [
       "array([[ 0.83333333, -2.16666667,  0.83333333,  0.83333333,  1.83333333,\n",
       "        -2.16666667],\n",
       "       [ 1.83333333,  0.83333333,  1.83333333, -2.16666667, -1.16666667,\n",
       "        -1.16666667],\n",
       "       [ 0.66666667, -0.33333333,  2.66666667, -1.33333333, -0.33333333,\n",
       "        -1.33333333],\n",
       "       [ 0.33333333, -0.66666667,  0.33333333, -0.66666667, -0.66666667,\n",
       "         1.33333333],\n",
       "       [-0.5       ,  0.5       ,  0.5       ,  0.5       , -1.5       ,\n",
       "         0.5       ],\n",
       "       [ 2.5       , -0.5       , -0.5       , -1.5       ,  2.5       ,\n",
       "        -2.5       ]])"
      ]
     },
     "execution_count": 48,
     "metadata": {},
     "output_type": "execute_result"
    }
   ],
   "source": [
    "A - A.mean(axis = 1, keepdims = True)"
   ]
  },
  {
   "cell_type": "code",
   "execution_count": 74,
   "id": "cd4b5cd3-f36d-4f37-953c-c7918fa6c691",
   "metadata": {},
   "outputs": [
    {
     "data": {
      "image/png": "[encoded data removed]",
      "text/plain": [
       "<Figure size 500x500 with 1 Axes>"
      ]
     },
     "metadata": {},
     "output_type": "display_data"
    }
   ],
   "source": [
    "import matplotlib.pyplot as plt\n",
    "x = np.linspace(-1,1,1000)\n",
    "plt.figure(figsize = (5,5))\n",
    "plt.plot(x,x**2, c = 'orange', ls = ':', label = 'y = x**2')\n",
    "plt.plot(x, x**3, c = 'green', ls = '--',label ='y = x**3')\n",
    "plt.plot(x, x, c = 'blue', ls = 'dashdot', label = 'y = x')\n",
    "plt.scatter(1,1)\n",
    "plt.scatter(-1,1)\n",
    "plt.hlines(xmin = -1, xmax = 1, y = 0, color = 'black')\n",
    "plt.vlines(ymin = -1, ymax = 1, x = 0, color = 'black')\n",
    "plt.title('POWER FUNCTIONS', c = 'red')\n",
    "plt.legend(loc = 'upper center')\n",
    "plt.grid();"
   ]
  },
  {
   "cell_type": "code",
   "execution_count": 77,
   "id": "4071bf26-2f04-4e79-8675-8f7e16b1a9a3",
   "metadata": {},
   "outputs": [
    {
     "data": {
      "image/png": "[encoded data removed]",
      "text/plain": [
       "<Figure size 640x480 with 1 Axes>"
      ]
     },
     "metadata": {},
     "output_type": "display_data"
    }
   ],
   "source": [
    "A = np.random.randint(0,7, 100000) \n",
    "plt.hist(A);"
   ]
  },
  {
   "cell_type": "code",
   "execution_count": null,
   "id": "17dec4d8-6b57-4fca-aac4-5c6d69df4ed1",
   "metadata": {},
   "outputs": [],
   "source": []
  }
 ],
 "metadata": {
  "kernelspec": {
   "display_name": "Python 3 (ipykernel)",
   "language": "python",
   "name": "python3"
  },
  "language_info": {
   "codemirror_mode": {
    "name": "ipython",
    "version": 3
   },
   "file_extension": ".py",
   "mimetype": "text/x-python",
   "name": "python",
   "nbconvert_exporter": "python",
   "pygments_lexer": "ipython3",
   "version": "3.11.7"
  }
 },
 "nbformat": 4,
 "nbformat_minor": 5
}
