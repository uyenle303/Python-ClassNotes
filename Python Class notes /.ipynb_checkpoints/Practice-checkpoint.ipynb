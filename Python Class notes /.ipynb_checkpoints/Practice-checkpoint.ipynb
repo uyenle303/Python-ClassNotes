{
 "cells": [
  {
   "cell_type": "markdown",
   "id": "7deedfe0-78a8-4f07-8ad5-1f76ee2c7bf9",
   "metadata": {},
   "source": [
    "1. Given a list of elements, make a new list with the elements in reverse order. For instance [1, 2, 3] becomes [3, 2, 1]."
   ]
  },
  {
   "cell_type": "markdown",
   "id": "c256a9b1-4bba-46b7-bb62-14f1c2a60f6f",
   "metadata": {},
   "source": [
    "2. Reverse a string. For instance 'abcde' becomes 'edcba'. Try to do this first by writing the string as a list of characters, use the previous exercise to invert this list, and then convert it back to a string. Or try to do this directly with the string."
   ]
  },
  {
   "cell_type": "markdown",
   "id": "7b60942a-c271-4409-967b-d7503d43a0ef",
   "metadata": {},
   "source": [
    "3. Write a function that multiply two matrices of equal size."
   ]
  },
  {
   "cell_type": "markdown",
   "id": "393a8cc4-3b4e-4ea2-8160-1e97f88a4016",
   "metadata": {},
   "source": [
    "4. Extact all the integers that are multiple of both 3 and 7 and less or equal to 2000."
   ]
  },
  {
   "cell_type": "markdown",
   "id": "65fc8d48-8ec2-4cf5-a563-d2cfda9c5a38",
   "metadata": {},
   "source": [
    "5. Guess a number between 0 and 9 (both included). The following program finds out your guess, but it may take a while (if you guessed 9, it will ask you 10 questions before finding out your guess). Can you write a program that will find out your guess more rapidly. Hint: you may want to think about using \"greater or equal\", or \"greater\""
   ]
  },
  {
   "cell_type": "code",
   "execution_count": null,
   "id": "373f9407-7c49-4b7e-858c-01701e7a5f8c",
   "metadata": {},
   "outputs": [
    {
     "name": "stdin",
     "output_type": "stream",
     "text": [
      "Is the number you guessed equal to 0 ? Y/N N\n",
      "Is the number you guessed equal to 1 ? Y/N N\n",
      "Is the number you guessed equal to 2 ? Y/N N\n"
     ]
    }
   ],
   "source": [
    "for i in range(10):\n",
    "    a = input('Is the number you guessed equal to ' + str(i) + ' ? Y/N')\n",
    "    if a == 'Y':\n",
    "        print('you guessed ' + str(i))\n",
    "        break"
   ]
  },
  {
   "cell_type": "code",
   "execution_count": null,
   "id": "5016e24c-aba8-47ac-9c1a-503f4f768c4d",
   "metadata": {},
   "outputs": [],
   "source": []
  }
 ],
 "metadata": {
  "kernelspec": {
   "display_name": "Python 3 (ipykernel)",
   "language": "python",
   "name": "python3"
  },
  "language_info": {
   "codemirror_mode": {
    "name": "ipython",
    "version": 3
   },
   "file_extension": ".py",
   "mimetype": "text/x-python",
   "name": "python",
   "nbconvert_exporter": "python",
   "pygments_lexer": "ipython3",
   "version": "3.8.16"
  }
 },
 "nbformat": 4,
 "nbformat_minor": 5
}
